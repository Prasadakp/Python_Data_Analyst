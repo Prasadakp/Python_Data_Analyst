{
 "cells": [
  {
   "cell_type": "markdown",
   "metadata": {},
   "source": [
    "# Extracting data from relational database"
   ]
  },
  {
   "cell_type": "markdown",
   "metadata": {},
   "source": [
    "### Author: Prasad"
   ]
  },
  {
   "cell_type": "markdown",
   "metadata": {},
   "source": [
    "## SQLite Database"
   ]
  },
  {
   "cell_type": "code",
   "execution_count": 1,
   "metadata": {},
   "outputs": [],
   "source": [
    "# import sqlite3 package\n",
    "import sqlite3"
   ]
  },
  {
   "cell_type": "markdown",
   "metadata": {},
   "source": [
    "#### connect to database"
   ]
  },
  {
   "cell_type": "code",
   "execution_count": 3,
   "metadata": {},
   "outputs": [],
   "source": [
    "# create a connection to a database : create the database if not available\n",
    "connection = sqlite3.connect(\"prasli.db\")\n",
    "connection.close()"
   ]
  },
  {
   "cell_type": "markdown",
   "metadata": {},
   "source": [
    "### create table"
   ]
  },
  {
   "cell_type": "code",
   "execution_count": 6,
   "metadata": {},
   "outputs": [],
   "source": [
    "# open connection\n",
    "connection = sqlite3.connect(\"prasli.db\")\n",
    "# open cursor\n",
    "cursor = connection.cursor()\n",
    "# query for creating table\n",
    "create_table = \"\"\"CREATE TABLE employee1(\n",
    "                    Employee_id INTEGER PRIMARY KEY,\n",
    "                    Name VARCHAR(10),\n",
    "                    Age INTEGERE,\n",
    "                    Phone NUMBER(10));\"\"\"\n",
    "# execute query\n",
    "cursor.execute(create_table)\n",
    "# commit changes\n",
    "connection.commit()\n",
    "# close connection\n",
    "connection.close()"
   ]
  },
  {
   "cell_type": "markdown",
   "metadata": {},
   "source": [
    "### insert data"
   ]
  },
  {
   "cell_type": "code",
   "execution_count": 8,
   "metadata": {},
   "outputs": [],
   "source": [
    "# sample data\n",
    "employee_data = [( 1,'Prasad', 23, 8277358296 ),\n",
    "                ( 2, 'naveen', 25, 1234567890 )]\n",
    "\n",
    "# open connection\n",
    "connection = sqlite3.connect(\"prasli.db\")\n",
    "\n",
    "# open cursor\n",
    "cursor = connection.cursor()\n",
    "\n",
    "# insert each employee record\n",
    "for data in employee_data:\n",
    "    # formated query string\n",
    "    inserted_data = \"\"\"INSERT INTO employee1(Employee_id, Name, Age, Phone) VALUES({0}, '{1}', {2}, {3});\"\"\".format(data[0], data[1], data[2], data[3])\n",
    "    \n",
    "    # execute insert query\n",
    "    cursor.execute(inserted_data)\n",
    "    \n",
    "# commit changes\n",
    "connection.commit()\n",
    "\n",
    "# close connection\n",
    "connection.close()"
   ]
  },
  {
   "cell_type": "markdown",
   "metadata": {},
   "source": [
    "### extract data"
   ]
  },
  {
   "cell_type": "code",
   "execution_count": 9,
   "metadata": {},
   "outputs": [
    {
     "name": "stdout",
     "output_type": "stream",
     "text": [
      "(1, 'Prasad', 23, 8277358296)\n",
      "(2, 'naveen', 25, 1234567890)\n"
     ]
    }
   ],
   "source": [
    "# open connection\n",
    "connection = sqlite3.connect(\"prasli.db\")\n",
    "\n",
    "# open cursor\n",
    "cursor = connection.cursor()\n",
    "\n",
    "# query\n",
    "query = \"SELECT * FROM employee1\"\n",
    "\n",
    "# execute query\n",
    "cursor.execute(query)\n",
    "\n",
    "# fetch results\n",
    "result = cursor.fetchall()\n",
    "\n",
    "# print result\n",
    "for row in result:\n",
    "    print(row)\n",
    "\n",
    "# close connection\n",
    "connection.close()"
   ]
  },
  {
   "cell_type": "markdown",
   "metadata": {},
   "source": [
    "## MySQL database"
   ]
  },
  {
   "cell_type": "code",
   "execution_count": 21,
   "metadata": {},
   "outputs": [
    {
     "name": "stdout",
     "output_type": "stream",
     "text": [
      "Requirement already satisfied: pymysql in c:\\programdata\\anaconda3\\lib\\site-packages (0.9.3)\n"
     ]
    }
   ],
   "source": [
    "!pip install pymysql"
   ]
  },
  {
   "cell_type": "markdown",
   "metadata": {},
   "source": [
    "### import package"
   ]
  },
  {
   "cell_type": "code",
   "execution_count": 22,
   "metadata": {},
   "outputs": [],
   "source": [
    "import pymysql"
   ]
  },
  {
   "cell_type": "markdown",
   "metadata": {},
   "source": [
    "### connect to database"
   ]
  },
  {
   "cell_type": "code",
   "execution_count": 25,
   "metadata": {},
   "outputs": [],
   "source": [
    "# connection details\n",
    "\n",
    "cnx ={'host': 'database-1.csjna758twxz.ap-south-1.rds.amazonaws.com',\n",
    "     'username': 'admin',\n",
    "     'password': 'admin1234',\n",
    "     'db': 'prasliDB'}\n",
    "\n",
    "# connect to the database\n",
    "connection = pymysql.connect(cnx['host'], cnx['username'], cnx['password'], cnx['db'])\n",
    "\n",
    "# close connection \n",
    "connection.close()"
   ]
  },
  {
   "cell_type": "markdown",
   "metadata": {},
   "source": [
    "### create table"
   ]
  },
  {
   "cell_type": "code",
   "execution_count": 35,
   "metadata": {},
   "outputs": [],
   "source": [
    "# connect to the database\n",
    "connection = pymysql.connect(cnx['host'], cnx['username'], cnx['password'], cnx['db'])\n",
    "\n",
    "# open cursor\n",
    "cursor = connection.cursor()\n",
    "\n",
    "# create table query\n",
    "create_table = \"\"\"CREATE TABLE employee1(\n",
    "                    Employee_id INT,\n",
    "                    Name VARCHAR(10),\n",
    "                    Age INT,\n",
    "                    Phone VARCHAR(10));\"\"\"\n",
    "\n",
    "# execute query\n",
    "cursor.execute(create_table)\n",
    "\n",
    "# commit\n",
    "connection.commit()\n",
    "\n",
    "# close connection \n",
    "connection.close()"
   ]
  },
  {
   "cell_type": "markdown",
   "metadata": {},
   "source": [
    "### insert data to database"
   ]
  },
  {
   "cell_type": "code",
   "execution_count": 38,
   "metadata": {},
   "outputs": [],
   "source": [
    "# sample data\n",
    "employee_data =[(1, 'prasad', 23, '8277358296'),\n",
    "               (2, 'naveen', 24, '8310125789')]\n",
    "\n",
    "# connect to the database\n",
    "connection = pymysql.connect(cnx['host'], cnx['username'], cnx['password'], cnx['db'])\n",
    "\n",
    "# open cursor\n",
    "cursor = connection.cursor()\n",
    "\n",
    "for data in employee_data:\n",
    "    # format data\n",
    "    format_data = \"\"\"INSERT INTO employee1(Employee_id, Name, Age, Phone) VALUES({0}, '{1}', {2},'{3}');\"\"\".format(data[0], data[1], data[2], data[3])\n",
    "    \n",
    "    # execute query\n",
    "    cursor.execute(format_data)\n",
    "\n",
    "# commit the changes\n",
    "connection.commit()\n",
    "\n",
    "# close connection\n",
    "connection.close()"
   ]
  },
  {
   "cell_type": "markdown",
   "metadata": {},
   "source": [
    "### extract data"
   ]
  },
  {
   "cell_type": "code",
   "execution_count": 39,
   "metadata": {},
   "outputs": [
    {
     "name": "stdout",
     "output_type": "stream",
     "text": [
      "(1, 'prasad', 23, '8277358296')\n",
      "(2, 'naveen', 24, '8310125789')\n"
     ]
    }
   ],
   "source": [
    "# connect to the database\n",
    "connection = pymysql.connect(cnx['host'], cnx['username'], cnx['password'], cnx['db'])\n",
    "\n",
    "# open cursor\n",
    "cursor = connection.cursor()\n",
    "\n",
    "# select query\n",
    "select_data = \"SELECT * FROM employee1\"\n",
    "\n",
    "# execute query\n",
    "cursor.execute(select_data)\n",
    "\n",
    "# fetch data\n",
    "result = cursor.fetchall()\n",
    "\n",
    "# print data\n",
    "for row in result:\n",
    "    print(row)\n",
    "\n",
    "# close connection\n",
    "connection.close()"
   ]
  },
  {
   "cell_type": "code",
   "execution_count": null,
   "metadata": {},
   "outputs": [],
   "source": []
  }
 ],
 "metadata": {
  "kernelspec": {
   "display_name": "Python 3",
   "language": "python",
   "name": "python3"
  },
  "language_info": {
   "codemirror_mode": {
    "name": "ipython",
    "version": 3
   },
   "file_extension": ".py",
   "mimetype": "text/x-python",
   "name": "python",
   "nbconvert_exporter": "python",
   "pygments_lexer": "ipython3",
   "version": "3.7.3"
  }
 },
 "nbformat": 4,
 "nbformat_minor": 2
}
